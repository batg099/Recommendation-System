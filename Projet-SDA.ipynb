{
 "cells": [
  {
   "cell_type": "code",
   "execution_count": 4,
   "id": "14b917bc-23cb-45db-bc52-739cc7381d05",
   "metadata": {},
   "outputs": [
    {
     "name": "stdout",
     "output_type": "stream",
     "text": [
      "Defaulting to user installation because normal site-packages is not writeable\n",
      "Looking in links: /usr/share/pip-wheels\n",
      "Requirement already satisfied: annoy in /home/6cd6b4cb-e145-4584-b084-5dbd566aa1d2/.local/lib/python3.10/site-packages (1.17.3)\n"
     ]
    }
   ],
   "source": [
    "!pip install annoy"
   ]
  },
  {
   "cell_type": "code",
   "execution_count": 222,
   "id": "93bfcbe8-71d0-4a68-be51-08c1b8a8d2ef",
   "metadata": {},
   "outputs": [
    {
     "data": {
      "text/html": [
       "<div>\n",
       "<style scoped>\n",
       "    .dataframe tbody tr th:only-of-type {\n",
       "        vertical-align: middle;\n",
       "    }\n",
       "\n",
       "    .dataframe tbody tr th {\n",
       "        vertical-align: top;\n",
       "    }\n",
       "\n",
       "    .dataframe thead th {\n",
       "        text-align: right;\n",
       "    }\n",
       "</style>\n",
       "<table border=\"1\" class=\"dataframe\">\n",
       "  <thead>\n",
       "    <tr style=\"text-align: right;\">\n",
       "      <th></th>\n",
       "      <th>user_id</th>\n",
       "      <th>film_id</th>\n",
       "    </tr>\n",
       "  </thead>\n",
       "  <tbody>\n",
       "    <tr>\n",
       "      <th>0</th>\n",
       "      <td>663821</td>\n",
       "      <td>s34945401</td>\n",
       "    </tr>\n",
       "    <tr>\n",
       "      <th>1</th>\n",
       "      <td>663821</td>\n",
       "      <td>s84097505</td>\n",
       "    </tr>\n",
       "    <tr>\n",
       "      <th>2</th>\n",
       "      <td>663821</td>\n",
       "      <td>s79213851</td>\n",
       "    </tr>\n",
       "    <tr>\n",
       "      <th>3</th>\n",
       "      <td>663821</td>\n",
       "      <td>s87544655</td>\n",
       "    </tr>\n",
       "    <tr>\n",
       "      <th>4</th>\n",
       "      <td>663821</td>\n",
       "      <td>s125969381</td>\n",
       "    </tr>\n",
       "    <tr>\n",
       "      <th>...</th>\n",
       "      <td>...</td>\n",
       "      <td>...</td>\n",
       "    </tr>\n",
       "    <tr>\n",
       "      <th>999994</th>\n",
       "      <td>869730711</td>\n",
       "      <td>s72411360</td>\n",
       "    </tr>\n",
       "    <tr>\n",
       "      <th>999995</th>\n",
       "      <td>869730711</td>\n",
       "      <td>s2203428</td>\n",
       "    </tr>\n",
       "    <tr>\n",
       "      <th>999996</th>\n",
       "      <td>869730711</td>\n",
       "      <td>s113415198</td>\n",
       "    </tr>\n",
       "    <tr>\n",
       "      <th>999997</th>\n",
       "      <td>869730711</td>\n",
       "      <td>s8011849</td>\n",
       "    </tr>\n",
       "    <tr>\n",
       "      <th>999998</th>\n",
       "      <td>869730711</td>\n",
       "      <td>s6461435</td>\n",
       "    </tr>\n",
       "  </tbody>\n",
       "</table>\n",
       "<p>999999 rows × 2 columns</p>\n",
       "</div>"
      ],
      "text/plain": [
       "          user_id     film_id\n",
       "0          663821   s34945401\n",
       "1          663821   s84097505\n",
       "2          663821   s79213851\n",
       "3          663821   s87544655\n",
       "4          663821  s125969381\n",
       "...           ...         ...\n",
       "999994  869730711   s72411360\n",
       "999995  869730711    s2203428\n",
       "999996  869730711  s113415198\n",
       "999997  869730711    s8011849\n",
       "999998  869730711    s6461435\n",
       "\n",
       "[999999 rows x 2 columns]"
      ]
     },
     "execution_count": 222,
     "metadata": {},
     "output_type": "execute_result"
    }
   ],
   "source": [
    "import pandas as pd\n",
    "data = pd.read_csv('spotusers.csv')\n",
    "\n",
    "# On renomme les colonnes\n",
    "data = data.rename(columns={'663821': 'user_id', 's948047': 'film_id'})\n",
    "\n",
    "data"
   ]
  },
  {
   "cell_type": "code",
   "execution_count": 224,
   "id": "98009633-2e2f-4f5f-b965-b9af44a960d6",
   "metadata": {},
   "outputs": [
    {
     "data": {
      "text/html": [
       "<div>\n",
       "<style scoped>\n",
       "    .dataframe tbody tr th:only-of-type {\n",
       "        vertical-align: middle;\n",
       "    }\n",
       "\n",
       "    .dataframe tbody tr th {\n",
       "        vertical-align: top;\n",
       "    }\n",
       "\n",
       "    .dataframe thead th {\n",
       "        text-align: right;\n",
       "    }\n",
       "</style>\n",
       "<table border=\"1\" class=\"dataframe\">\n",
       "  <thead>\n",
       "    <tr style=\"text-align: right;\">\n",
       "      <th></th>\n",
       "      <th>user_id</th>\n",
       "      <th>film_id</th>\n",
       "    </tr>\n",
       "  </thead>\n",
       "  <tbody>\n",
       "    <tr>\n",
       "      <th>0</th>\n",
       "      <td>663821.0</td>\n",
       "      <td>34945401.0</td>\n",
       "    </tr>\n",
       "    <tr>\n",
       "      <th>1</th>\n",
       "      <td>663821.0</td>\n",
       "      <td>84097505.0</td>\n",
       "    </tr>\n",
       "    <tr>\n",
       "      <th>2</th>\n",
       "      <td>663821.0</td>\n",
       "      <td>79213851.0</td>\n",
       "    </tr>\n",
       "    <tr>\n",
       "      <th>3</th>\n",
       "      <td>663821.0</td>\n",
       "      <td>87544655.0</td>\n",
       "    </tr>\n",
       "    <tr>\n",
       "      <th>4</th>\n",
       "      <td>663821.0</td>\n",
       "      <td>125969381.0</td>\n",
       "    </tr>\n",
       "  </tbody>\n",
       "</table>\n",
       "</div>"
      ],
      "text/plain": [
       "    user_id      film_id\n",
       "0  663821.0   34945401.0\n",
       "1  663821.0   84097505.0\n",
       "2  663821.0   79213851.0\n",
       "3  663821.0   87544655.0\n",
       "4  663821.0  125969381.0"
      ]
     },
     "execution_count": 224,
     "metadata": {},
     "output_type": "execute_result"
    }
   ],
   "source": [
    "# On enleve les 's' dans la colonne film_id et on transforme tous ses elements en float\n",
    "data['film_id'] = data['film_id'].str.replace('s', '', regex=False)\n",
    "data = data.astype(float)\n",
    "data.head()"
   ]
  },
  {
   "cell_type": "code",
   "execution_count": 225,
   "id": "a4a3f76c-2426-42ce-b5ed-ba40a769dbf4",
   "metadata": {},
   "outputs": [
    {
     "data": {
      "image/png": "[encoded data removed]",
      "text/plain": [
       "<Figure size 640x480 with 1 Axes>"
      ]
     },
     "metadata": {},
     "output_type": "display_data"
    }
   ],
   "source": [
    "# Représentation graphique (juste pour visualiser)\n",
    "import matplotlib.pyplot as plt\n",
    "\n",
    "plot = data.sample(n=100, random_state=42)  # Exemple : 10 000 points\n",
    "plt.scatter(y=plot['film_id'],x=plot['user_id'])\n",
    "plt.show()"
   ]
  },
  {
   "cell_type": "code",
   "execution_count": 227,
   "id": "48faabc2-8ac0-4125-a6e0-ecbe54b9f7b9",
   "metadata": {},
   "outputs": [
    {
     "name": "stdout",
     "output_type": "stream",
     "text": [
      "([2, 283, 974, 1433], [0.0, 0.7765908241271973, 0.7869450449943542, 0.8031201958656311])\n"
     ]
    }
   ],
   "source": [
    "def Annoy(id, k):\n",
    "    f = 40  # Longueur du vecteur\n",
    "    t = AnnoyIndex(f, 'angular')  # Créer l'index avec le type 'angular' et la longueur du vecteur\n",
    "\n",
    "    # Grouper par 'user_id' et appliquer une liste sur 'film_id'\n",
    "    listes = data.groupby('user_id')['film_id'].apply(list)\n",
    "    \n",
    "    i = 0\n",
    "    # Créer une liste où chaque élément contient user_id + films associés\n",
    "    for user_id, films in listes.items():\n",
    "        # Un vecteur est composé d'un user et de tous ses films\n",
    "        vector = [user_id] + films\n",
    "        \n",
    "        # Si le vecteur est plus court que 40, le compléter avec des zéros\n",
    "        if len(vector) < 40:\n",
    "            vector.extend([0] * (40 - len(vector)))  # Compléter avec des zéros\n",
    "        # Si le vecteur est plus long que 40, le couper à 40 éléments\n",
    "        elif len(vector) > 40:\n",
    "            vector = vector[:40]\n",
    "\n",
    "        # Ajouter l'élément à l'index\n",
    "        t.add_item(i, vector)\n",
    "        i += 1\n",
    "\n",
    "    # Construire l'index avec 10 arbres (plus de trees = meilleure précision)\n",
    "    t.build(10)  \n",
    "    # Recherche des k voisins les plus proches de l'élément 'id'\n",
    "    print(t.get_nns_by_item(id, k+1, include_distances=True))  # Trouver les k plus proches voisins\n",
    "\n",
    "# Appeler la fonction pour tester\n",
    "Annoy(2, 3)"
   ]
  },
  {
   "cell_type": "code",
   "execution_count": 230,
   "id": "27b9f78f-f528-4747-ac9a-c4ca243cc6f9",
   "metadata": {},
   "outputs": [
    {
     "name": "stdout",
     "output_type": "stream",
     "text": [
      "84942183.0 127775773.0 355665151.0\n"
     ]
    }
   ],
   "source": [
    "listes = data.groupby('user_id')['film_id'].apply(list)\n",
    "print(listes.iloc[283][0],\n",
    "listes.iloc[974][0],\n",
    "listes.iloc[1433][0])"
   ]
  },
  {
   "cell_type": "code",
   "execution_count": 220,
   "id": "f4c6d93e-d837-445a-9bb5-a54968932230",
   "metadata": {},
   "outputs": [],
   "source": [
    "# Remarque : il faut aussi vérifier que les films recommandés n'ont pas déjà été vus par notre utilisateur."
   ]
  },
  {
   "cell_type": "code",
   "execution_count": null,
   "id": "ae218480-255b-403e-91f1-de26d6260dda",
   "metadata": {},
   "outputs": [],
   "source": []
  }
 ],
 "metadata": {
  "kernelspec": {
   "display_name": "anaconda-2024.02-py310",
   "language": "python",
   "name": "conda-env-anaconda-2024.02-py310-py"
  },
  "language_info": {
   "codemirror_mode": {
    "name": "ipython",
    "version": 3
   },
   "file_extension": ".py",
   "mimetype": "text/x-python",
   "name": "python",
   "nbconvert_exporter": "python",
   "pygments_lexer": "ipython3",
   "version": "3.10.14"
  }
 },
 "nbformat": 4,
 "nbformat_minor": 5
}
